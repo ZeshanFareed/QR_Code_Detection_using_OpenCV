{
 "cells": [
  {
   "cell_type": "code",
   "execution_count": 2,
   "id": "ab15697d",
   "metadata": {},
   "outputs": [],
   "source": [
    "import cv2\n",
    "import numpy as np\n",
    "import time"
   ]
  },
  {
   "cell_type": "code",
   "execution_count": 9,
   "id": "3242c29c",
   "metadata": {},
   "outputs": [],
   "source": [
    "cap = cv2.VideoCapture(0)\n",
    "\n",
    "cap.set(cv2.CAP_PROP_FRAME_WIDTH, 980)\n",
    "cap.set(cv2.CAP_PROP_FRAME_HEIGHT, 720)\n",
    "\n",
    "detector = cv2.QRCodeDetector()\n",
    "\n",
    "while cap.isOpened():\n",
    "    r, frame = cap.read()\n",
    "    if r == True:\n",
    "        \n",
    "        start = time.perf_counter()\n",
    "        \n",
    "        value, points, qrcode = detector.detectAndDecode(frame)\n",
    "        \n",
    "        if value != \"\":\n",
    "            x1 = points[0][0][0]\n",
    "            y1 = points[0][0][1]\n",
    "            x2 = points[0][2][0]\n",
    "            y2 = points[0][2][1]\n",
    "    \n",
    "            # Calculate width and height\n",
    "            w = x2 - x1\n",
    "            h = y2 - y1\n",
    "\n",
    "            \n",
    "            # Calculate center\n",
    "            x_center = x1 + w / 2\n",
    "            y_center = y1 + h / 2\n",
    "            \n",
    "            \n",
    "            # Cast coordinates to integers\n",
    "            #Draw Rectangle and Circle if QR Code is Detected\n",
    "            \n",
    "            cv2.rectangle(frame, (int(x1), int(y1)), (int(x1 + w), int(y1 + h)), (0, 255, 0), 2)\n",
    "            cv2.circle(frame, (int(x_center), int(y_center)), 5, (255, 0, 0), -1)  \n",
    "            \n",
    "            cv2.putText(frame, str(value), (30, 120), cv2.FONT_HERSHEY_SIMPLEX, 1, (255, 255, 255), 2)\n",
    "            \n",
    "            # Calculate and Display FPS\n",
    "            \n",
    "            end = time.perf_counter()\n",
    "            totalTime = end - start\n",
    "            \n",
    "            fps = 1 / totalTime\n",
    "            \n",
    "            cv2.putText(frame, f'FPS: {int(fps)}', (30, 70), cv2.FONT_HERSHEY_SIMPLEX, 1, (255, 255, 255), 2)\n",
    "        \n",
    "        cv2.imshow(\"QR Scanner\", frame)\n",
    "        if cv2.waitKey(25) & 0xff == ord(\"p\"):\n",
    "            break\n",
    "\n",
    "cap.release()\n",
    "cv2.destroyAllWindows()\n"
   ]
  },
  {
   "cell_type": "code",
   "execution_count": null,
   "id": "63454a83",
   "metadata": {},
   "outputs": [],
   "source": []
  }
 ],
 "metadata": {
  "kernelspec": {
   "display_name": "Python 3 (ipykernel)",
   "language": "python",
   "name": "python3"
  },
  "language_info": {
   "codemirror_mode": {
    "name": "ipython",
    "version": 3
   },
   "file_extension": ".py",
   "mimetype": "text/x-python",
   "name": "python",
   "nbconvert_exporter": "python",
   "pygments_lexer": "ipython3",
   "version": "3.11.5"
  },
  "varInspector": {
   "cols": {
    "lenName": 16,
    "lenType": 16,
    "lenVar": 40
   },
   "kernels_config": {
    "python": {
     "delete_cmd_postfix": "",
     "delete_cmd_prefix": "del ",
     "library": "var_list.py",
     "varRefreshCmd": "print(var_dic_list())"
    },
    "r": {
     "delete_cmd_postfix": ") ",
     "delete_cmd_prefix": "rm(",
     "library": "var_list.r",
     "varRefreshCmd": "cat(var_dic_list()) "
    }
   },
   "types_to_exclude": [
    "module",
    "function",
    "builtin_function_or_method",
    "instance",
    "_Feature"
   ],
   "window_display": false
  }
 },
 "nbformat": 4,
 "nbformat_minor": 5
}
